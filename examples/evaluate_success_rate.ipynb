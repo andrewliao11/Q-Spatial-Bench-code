{
 "cells": [
  {
   "cell_type": "code",
   "execution_count": 1,
   "metadata": {},
   "outputs": [
    {
     "name": "stdout",
     "output_type": "stream",
     "text": [
      "Intel MKL WARNING: Support of Intel(R) Streaming SIMD Extensions 4.2 (Intel(R) SSE4.2) enabled only processors has been deprecated. Intel oneAPI Math Kernel Library 2025.0 will require Intel(R) Advanced Vector Extensions (Intel(R) AVX) instructions.\n",
      "Intel MKL WARNING: Support of Intel(R) Streaming SIMD Extensions 4.2 (Intel(R) SSE4.2) enabled only processors has been deprecated. Intel oneAPI Math Kernel Library 2025.0 will require Intel(R) Advanced Vector Extensions (Intel(R) AVX) instructions.\n"
     ]
    },
    {
     "name": "stderr",
     "output_type": "stream",
     "text": [
      "/Users/andrew/miniconda3/envs/python310/lib/python3.10/site-packages/tqdm/auto.py:21: TqdmWarning: IProgress not found. Please update jupyter and ipywidgets. See https://ipywidgets.readthedocs.io/en/stable/user_install.html\n",
      "  from .autonotebook import tqdm as notebook_tqdm\n"
     ]
    }
   ],
   "source": [
    "import re\n",
    "import json\n",
    "import numpy as np\n",
    "\n",
    "from pathlib import Path\n",
    "from datasets import load_dataset"
   ]
  },
  {
   "cell_type": "code",
   "execution_count": 2,
   "metadata": {},
   "outputs": [],
   "source": [
    "\"\"\"\n",
    "Simple evaluator that handles\n",
    "1. Load benchmark data\n",
    "2. Parse prediction string\n",
    "3. Evaluate success based on `delta` parameter\n",
    "\"\"\"\n",
    "\n",
    "class QSpatialEvaluator:\n",
    "    delta = 2\n",
    "    \n",
    "    def __init__(self, benchmark_split):\n",
    "        assert benchmark_split in [\"QSpatial_plus\", \"QSpatial_scannet\"]\n",
    "        self.dataset = load_dataset(\"andrewliao11/Q-Spatial-Bench\", split=benchmark_split)\n",
    "        \n",
    "    def evaluate(self, data_ind, vlm_response):\n",
    "                \n",
    "        #### Parse ground truth\n",
    "        value = self.dataset[\"answer_value\"][data_ind]\n",
    "        unit = self.dataset[\"answer_unit\"][data_ind]\n",
    "        ground_truth_value_in_cms = value * self._get_multiplier(unit)\n",
    "\n",
    "        #### Parse prediction\n",
    "        # Value\n",
    "        pattern = r'scalar{([^}]*)}'\n",
    "        str_inside_scalar_boxes = re.findall(pattern, vlm_response)[-1]\n",
    "        scalar_list = re.findall(r'\\d+\\.?\\d*', str_inside_scalar_boxes)\n",
    "        parsed_scalar = np.array(scalar_list).astype(float).mean()\n",
    "\n",
    "        # Unit\n",
    "        pattern = r'distance_unit{([^}]*)}'\n",
    "        str_inside_unit_boxes = re.findall(pattern, vlm_response)\n",
    "        parsed_unit = str_inside_unit_boxes[-1]\n",
    "\n",
    "        pred_value_in_cms = parsed_scalar * self._get_multiplier(parsed_unit)\n",
    "        success = max(pred_value_in_cms / ground_truth_value_in_cms, ground_truth_value_in_cms / pred_value_in_cms) < self.delta\n",
    "\n",
    "        return dict(\n",
    "            ground_truth_value_in_cms = ground_truth_value_in_cms,\n",
    "            pred_value_in_cms = pred_value_in_cms,\n",
    "            success = success\n",
    "        )\n",
    "    \n",
    "    def _get_multiplier(self, unit):\n",
    "                \n",
    "        unit = unit.lower()\n",
    "        if unit in [\"meters\", \"meter\", \"m\", \"metre\", \"metres\"]:\n",
    "            multiplier = 100\n",
    "        elif unit in [\"centimeters\", \"centimeter\", \"cm\"]:\n",
    "            multiplier = 1\n",
    "        elif unit in [\"feet\", \"foot\", \"ft\"]:\n",
    "            multiplier =  30.48\n",
    "        elif unit in [\"inch\", \"inches\", \"in\"]:\n",
    "            multiplier =  2.54\n",
    "        elif unit in [\"mm\"]:\n",
    "            multiplier =  0.1\n",
    "        else: \n",
    "            #raise ValueError(f\"Unknown unit: {unit}\")\n",
    "            print(f\"Unknown unit: {unit}\")\n",
    "            multiplier = 1\n",
    "            \n",
    "        return multiplier"
   ]
  },
  {
   "cell_type": "code",
   "execution_count": 3,
   "metadata": {},
   "outputs": [],
   "source": [
    "evaluator = QSpatialEvaluator(benchmark_split=\"QSpatial_plus\")"
   ]
  },
  {
   "cell_type": "code",
   "execution_count": 4,
   "metadata": {},
   "outputs": [
    {
     "name": "stdout",
     "output_type": "stream",
     "text": [
      "To determine the minimum distance between the two speckled pattern stool chairs in the image, let's follow these steps:\\n\\n1. **Identify the Stools**: Locate the two speckled pattern stools in the image. They are positioned in front of the couches.\\n\\n2. **Reference Points**: Choose reference points on each stool to measure the distance. The closest points on the stools would be the edges facing each other.\\n\\n3. **Estimate the Distance**: Visually estimate the distance between these two closest points. Given the perspective and the relative size of the stools, we can approximate the distance.\\n\\nConsidering the size of the stools and the space between them, the minimum distance between the two speckled pattern stool chairs is approximately:\\n\\n\\\\scalar{1} \\\\distance_unit{meter}\n",
      "\n",
      "Evaluation: {'ground_truth_value_in_cms': 96.0, 'pred_value_in_cms': 100.0, 'success': True}\n"
     ]
    }
   ],
   "source": [
    "# Example VLM responses from GPT-4o\n",
    "vlm_response = \"To determine the minimum distance between the two speckled pattern stool chairs in the image, let's follow these steps:\\\\n\\\\n1. **Identify the Stools**: Locate the two speckled pattern stools in the image. They are positioned in front of the couches.\\\\n\\\\n2. **Reference Points**: Choose reference points on each stool to measure the distance. The closest points on the stools would be the edges facing each other.\\\\n\\\\n3. **Estimate the Distance**: Visually estimate the distance between these two closest points. Given the perspective and the relative size of the stools, we can approximate the distance.\\\\n\\\\nConsidering the size of the stools and the space between them, the minimum distance between the two speckled pattern stool chairs is approximately:\\\\n\\\\n\\\\\\\\scalar{1} \\\\\\\\distance_unit{meter}\\n\"\n",
    "\n",
    "print(vlm_response)\n",
    "print(\"Evaluation:\", evaluator.evaluate(data_ind=41, vlm_response=vlm_response))"
   ]
  },
  {
   "cell_type": "code",
   "execution_count": null,
   "metadata": {},
   "outputs": [],
   "source": []
  }
 ],
 "metadata": {
  "kernelspec": {
   "display_name": "multi_rounds_vlm",
   "language": "python",
   "name": "python3"
  },
  "language_info": {
   "codemirror_mode": {
    "name": "ipython",
    "version": 3
   },
   "file_extension": ".py",
   "mimetype": "text/x-python",
   "name": "python",
   "nbconvert_exporter": "python",
   "pygments_lexer": "ipython3",
   "version": "3.10.14"
  }
 },
 "nbformat": 4,
 "nbformat_minor": 2
}
